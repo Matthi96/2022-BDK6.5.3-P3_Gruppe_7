{
 "cells": [
  {
   "cell_type": "markdown",
   "id": "a016d7ed",
   "metadata": {},
   "source": [
    "# 2022-BDK6.5.3-P3_Gruppe_7\n",
    "## British Library printed music \n",
    "### Frage 3: Aus welchen Ländern stammen wie viele Titel? \n",
    "\n",
    "\n",
    "*Grafik*\n",
    "\n"
   ]
  },
  {
   "cell_type": "code",
   "execution_count": 2,
   "id": "bd9338a4",
   "metadata": {},
   "outputs": [],
   "source": [
    "import urllib.request\n",
    "import pandas as pd\n",
    "#pandas importieren\n"
   ]
  },
  {
   "cell_type": "code",
   "execution_count": 12,
   "id": "9cab1985",
   "metadata": {},
   "outputs": [
    {
     "ename": "NameError",
     "evalue": "name 'detailedrecords' is not defined",
     "output_type": "error",
     "traceback": [
      "\u001b[1;31m---------------------------------------------------------------------------\u001b[0m",
      "\u001b[1;31mNameError\u001b[0m                                 Traceback (most recent call last)",
      "\u001b[1;32m~\\AppData\\Local\\Temp/ipykernel_9292/2607251898.py\u001b[0m in \u001b[0;36m<module>\u001b[1;34m\u001b[0m\n\u001b[1;32m----> 1\u001b[1;33m \u001b[0mdataset\u001b[0m \u001b[1;33m=\u001b[0m \u001b[0mpd\u001b[0m\u001b[1;33m.\u001b[0m\u001b[0mread_csv\u001b[0m \u001b[1;33m(\u001b[0m\u001b[0mdetailedrecords\u001b[0m\u001b[1;33m.\u001b[0m\u001b[0mcsv\u001b[0m\u001b[1;33m)\u001b[0m\u001b[1;33m\u001b[0m\u001b[1;33m\u001b[0m\u001b[0m\n\u001b[0m\u001b[0;32m      2\u001b[0m \u001b[1;31m#pull the file\u001b[0m\u001b[1;33m\u001b[0m\u001b[1;33m\u001b[0m\u001b[0m\n",
      "\u001b[1;31mNameError\u001b[0m: name 'detailedrecords' is not defined"
     ]
    }
   ],
   "source": [
    "dataset = pd.read_csv (detailedrecords.csv)\n",
    "#pull the file"
   ]
  },
  {
   "cell_type": "code",
   "execution_count": null,
   "id": "840df34c",
   "metadata": {},
   "outputs": [],
   "source": []
  },
  {
   "cell_type": "code",
   "execution_count": null,
   "id": "3ce92781",
   "metadata": {},
   "outputs": [],
   "source": []
  }
 ],
 "metadata": {
  "kernelspec": {
   "display_name": "Python 3 (ipykernel)",
   "language": "python",
   "name": "python3"
  },
  "language_info": {
   "codemirror_mode": {
    "name": "ipython",
    "version": 3
   },
   "file_extension": ".py",
   "mimetype": "text/x-python",
   "name": "python",
   "nbconvert_exporter": "python",
   "pygments_lexer": "ipython3",
   "version": "3.9.7"
  }
 },
 "nbformat": 4,
 "nbformat_minor": 5
}
