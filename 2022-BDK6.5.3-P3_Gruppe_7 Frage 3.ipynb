{
 "cells": [
  {
   "cell_type": "markdown",
   "id": "a016d7ed",
   "metadata": {},
   "source": [
    "# 2022-BDK6.5.3-P3_Gruppe_7\n",
    "## British Library printed music \n",
    "### Frage 3: Aus welchen Ländern stammen wie viele Titel in % (Grafik - Top5)? \n",
    "\n",
    "\n",
    "\n"
   ]
  },
  {
   "cell_type": "code",
   "execution_count": 3,
   "id": "bd9338a4",
   "metadata": {},
   "outputs": [],
   "source": [
    "import urllib.request\n",
    "import pandas as pd\n",
    "#pandas importieren\n"
   ]
  },
  {
   "cell_type": "code",
   "execution_count": 4,
   "id": "9cab1985",
   "metadata": {},
   "outputs": [],
   "source": [
    "dataset = pd.read_csv(\"detailedrecords.csv\", low_memory=False)\n",
    "\n",
    "#pull the file"
   ]
  },
  {
   "cell_type": "code",
   "execution_count": 13,
   "id": "840df34c",
   "metadata": {},
   "outputs": [
    {
     "data": {
      "text/html": [
       "<div>\n",
       "<style scoped>\n",
       "    .dataframe tbody tr th:only-of-type {\n",
       "        vertical-align: middle;\n",
       "    }\n",
       "\n",
       "    .dataframe tbody tr th {\n",
       "        vertical-align: top;\n",
       "    }\n",
       "\n",
       "    .dataframe thead th {\n",
       "        text-align: right;\n",
       "    }\n",
       "</style>\n",
       "<table border=\"1\" class=\"dataframe\">\n",
       "  <thead>\n",
       "    <tr style=\"text-align: right;\">\n",
       "      <th></th>\n",
       "      <th>BL record ID</th>\n",
       "      <th>Composer</th>\n",
       "      <th>Composer life dates</th>\n",
       "      <th>Title</th>\n",
       "      <th>Standardised title</th>\n",
       "      <th>Other titles</th>\n",
       "      <th>Other names</th>\n",
       "      <th>Publication date (standardised)</th>\n",
       "      <th>Publication date (not standardised)</th>\n",
       "      <th>Country of publication</th>\n",
       "      <th>...</th>\n",
       "      <th>Contents</th>\n",
       "      <th>Referenced in</th>\n",
       "      <th>Subject/genre terms</th>\n",
       "      <th>Physical description</th>\n",
       "      <th>Series title</th>\n",
       "      <th>Number within series</th>\n",
       "      <th>ISBN</th>\n",
       "      <th>ISMN</th>\n",
       "      <th>Publisher number</th>\n",
       "      <th>BL shelfmark</th>\n",
       "    </tr>\n",
       "  </thead>\n",
       "  <tbody>\n",
       "    <tr>\n",
       "      <th>0</th>\n",
       "      <td>1279866</td>\n",
       "      <td>NaN</td>\n",
       "      <td>NaN</td>\n",
       "      <td>The Penguin book of Canadian Folk songs</td>\n",
       "      <td>NaN</td>\n",
       "      <td>Canadian folk songs</td>\n",
       "      <td>Fowke, Edith ; MacMillan, Keith (Keith Campbell)</td>\n",
       "      <td>1973</td>\n",
       "      <td>1973</td>\n",
       "      <td>England</td>\n",
       "      <td>...</td>\n",
       "      <td>A Fenian song -- Bold Wolfe -- The battle of t...</td>\n",
       "      <td>NaN</td>\n",
       "      <td>Folk songs--Canada ; Folk songs, French--Canada</td>\n",
       "      <td>224 pages, music, 20 cm</td>\n",
       "      <td>NaN</td>\n",
       "      <td>NaN</td>\n",
       "      <td>0140708421</td>\n",
       "      <td>NaN</td>\n",
       "      <td>NaN</td>\n",
       "      <td>mH00/3305 ; X.439/3548</td>\n",
       "    </tr>\n",
       "    <tr>\n",
       "      <th>1</th>\n",
       "      <td>1312079</td>\n",
       "      <td>NaN</td>\n",
       "      <td>NaN</td>\n",
       "      <td>Anthology for The musician's guide to theory a...</td>\n",
       "      <td>NaN</td>\n",
       "      <td>Musician's guide, anthology ; Musician's guide...</td>\n",
       "      <td>Clendinning, Jane Piper ; Marvin, Elizabeth West</td>\n",
       "      <td>2005</td>\n",
       "      <td>c2005</td>\n",
       "      <td>New York (State)</td>\n",
       "      <td>...</td>\n",
       "      <td>NaN</td>\n",
       "      <td>NaN</td>\n",
       "      <td>Musical analysis--Music collections</td>\n",
       "      <td>1 score (vii, 260 pages), 28 cm</td>\n",
       "      <td>NaN</td>\n",
       "      <td>NaN</td>\n",
       "      <td>0393925765</td>\n",
       "      <td>NaN</td>\n",
       "      <td>NaN</td>\n",
       "      <td>F.1946.h</td>\n",
       "    </tr>\n",
       "    <tr>\n",
       "      <th>2</th>\n",
       "      <td>1706700</td>\n",
       "      <td>Hofhaimer, Paul</td>\n",
       "      <td>1459-1537</td>\n",
       "      <td>Harmoniae poeticae Pauli Hofheimeri : viri equ...</td>\n",
       "      <td>Harmoniae poeticae</td>\n",
       "      <td>Harmoniae poeticae Pauli Hofheimeri, &amp; Ludovic...</td>\n",
       "      <td>Horace ; Stomius, Johannes ; Senfl, Ludwig</td>\n",
       "      <td>1539</td>\n",
       "      <td>1539</td>\n",
       "      <td>Germany</td>\n",
       "      <td>...</td>\n",
       "      <td>NaN</td>\n",
       "      <td>RISM B/I 1539²⁶</td>\n",
       "      <td>Part songs, Latin</td>\n",
       "      <td>5 parts, 8°</td>\n",
       "      <td>NaN</td>\n",
       "      <td>NaN</td>\n",
       "      <td>NaN</td>\n",
       "      <td>NaN</td>\n",
       "      <td>NaN</td>\n",
       "      <td>1070.c.12.(1.) ; 1213.i.1 ; G.727</td>\n",
       "    </tr>\n",
       "    <tr>\n",
       "      <th>3</th>\n",
       "      <td>1825532</td>\n",
       "      <td>NaN</td>\n",
       "      <td>NaN</td>\n",
       "      <td>Istituzioni e monumenti dell'arte musicale ita...</td>\n",
       "      <td>NaN</td>\n",
       "      <td>NaN</td>\n",
       "      <td>NaN</td>\n",
       "      <td>1931</td>\n",
       "      <td>1931-1939</td>\n",
       "      <td>Italy</td>\n",
       "      <td>...</td>\n",
       "      <td>v. 1-2. Andrea e Giovanni Gabrieli e la musica...</td>\n",
       "      <td>NaN</td>\n",
       "      <td>Instrumental music ; Vocal music, Italian ; Sa...</td>\n",
       "      <td>6 volumes, illustrations, facsimiles (part col...</td>\n",
       "      <td>NaN</td>\n",
       "      <td>NaN</td>\n",
       "      <td>NaN</td>\n",
       "      <td>NaN</td>\n",
       "      <td>NaN</td>\n",
       "      <td>Hirsch IV.975 ; H.14</td>\n",
       "    </tr>\n",
       "    <tr>\n",
       "      <th>4</th>\n",
       "      <td>2225270</td>\n",
       "      <td>Chapman, Mary, (Musician)</td>\n",
       "      <td>NaN</td>\n",
       "      <td>Eight ball studies suitable for use in girls' ...</td>\n",
       "      <td>NaN</td>\n",
       "      <td>NaN</td>\n",
       "      <td>NaN</td>\n",
       "      <td>1940</td>\n",
       "      <td>1940</td>\n",
       "      <td>England</td>\n",
       "      <td>...</td>\n",
       "      <td>NaN</td>\n",
       "      <td>NaN</td>\n",
       "      <td>Piano music ; Physical education and training</td>\n",
       "      <td>1 score (12 pages ), 26 cm + 1 volume (8 pages...</td>\n",
       "      <td>NaN</td>\n",
       "      <td>NaN</td>\n",
       "      <td>NaN</td>\n",
       "      <td>NaN</td>\n",
       "      <td>NaN</td>\n",
       "      <td>D-07907.f.10</td>\n",
       "    </tr>\n",
       "    <tr>\n",
       "      <th>5</th>\n",
       "      <td>3050793</td>\n",
       "      <td>Razzi, Serafino</td>\n",
       "      <td>1531-</td>\n",
       "      <td>Santuario di laudi : o vero rime spirituali, p...</td>\n",
       "      <td>NaN</td>\n",
       "      <td>NaN</td>\n",
       "      <td>Verdelot, Philippe</td>\n",
       "      <td>1609</td>\n",
       "      <td>1609</td>\n",
       "      <td>Italy</td>\n",
       "      <td>...</td>\n",
       "      <td>NaN</td>\n",
       "      <td>RISM B/I 1609⁸</td>\n",
       "      <td>Hymns, Italian ; Propers (Music)</td>\n",
       "      <td>24, 240, 24 pages of music, 8°</td>\n",
       "      <td>NaN</td>\n",
       "      <td>NaN</td>\n",
       "      <td>NaN</td>\n",
       "      <td>NaN</td>\n",
       "      <td>NaN</td>\n",
       "      <td>11427.ee.25</td>\n",
       "    </tr>\n",
       "    <tr>\n",
       "      <th>6</th>\n",
       "      <td>3081869</td>\n",
       "      <td>Íslenzka stúdentafélag</td>\n",
       "      <td>NaN</td>\n",
       "      <td>Söngbók hins Íslenzka Stúdentafjelags</td>\n",
       "      <td>NaN</td>\n",
       "      <td>NaN</td>\n",
       "      <td>NaN</td>\n",
       "      <td>1894</td>\n",
       "      <td>1894</td>\n",
       "      <td>Iceland</td>\n",
       "      <td>...</td>\n",
       "      <td>Ættjarðarkvæði -- Alþýðuvísur -- Undir berum h...</td>\n",
       "      <td>NaN</td>\n",
       "      <td>Students' songs--Iceland ; Songs ; Music--Iceland</td>\n",
       "      <td>103 pages, music, 15 x 18 cm, (oblong 8°)</td>\n",
       "      <td>NaN</td>\n",
       "      <td>NaN</td>\n",
       "      <td>NaN</td>\n",
       "      <td>NaN</td>\n",
       "      <td>NaN</td>\n",
       "      <td>866.k.15</td>\n",
       "    </tr>\n",
       "    <tr>\n",
       "      <th>7</th>\n",
       "      <td>3240772</td>\n",
       "      <td>Sanchis Guarner, Manuel</td>\n",
       "      <td>NaN</td>\n",
       "      <td>Cancçoneret Valencià de Nadal : Segona edició ...</td>\n",
       "      <td>NaN</td>\n",
       "      <td>NaN</td>\n",
       "      <td>NaN</td>\n",
       "      <td>1973</td>\n",
       "      <td>1973</td>\n",
       "      <td>Spain</td>\n",
       "      <td>...</td>\n",
       "      <td>NaN</td>\n",
       "      <td>NaN</td>\n",
       "      <td>NaN</td>\n",
       "      <td>55 pages, 24 cm</td>\n",
       "      <td>Els quaderns</td>\n",
       "      <td>no. 3 [Els quaderns]</td>\n",
       "      <td>NaN</td>\n",
       "      <td>NaN</td>\n",
       "      <td>NaN</td>\n",
       "      <td>P.521/1605.(3.)</td>\n",
       "    </tr>\n",
       "    <tr>\n",
       "      <th>8</th>\n",
       "      <td>4083483</td>\n",
       "      <td>Liturgies.Latin Rite. Graduals. II. Local. Pas...</td>\n",
       "      <td>NaN</td>\n",
       "      <td>Graduale Pataviense (Wien 1511). Faksimile. He...</td>\n",
       "      <td>NaN</td>\n",
       "      <td>NaN</td>\n",
       "      <td>Vaeterlein, Christian</td>\n",
       "      <td>1982</td>\n",
       "      <td>NaN</td>\n",
       "      <td>Germany</td>\n",
       "      <td>...</td>\n",
       "      <td>NaN</td>\n",
       "      <td>NaN</td>\n",
       "      <td>NaN</td>\n",
       "      <td>vi, 294, 13 pages, music 25 x 33 cm</td>\n",
       "      <td>Das Erbe deutscher Musik. Bd.87. Abteilung Mit...</td>\n",
       "      <td>NaN</td>\n",
       "      <td>NaN</td>\n",
       "      <td>NaN</td>\n",
       "      <td>NaN</td>\n",
       "      <td>H.995.b./87</td>\n",
       "    </tr>\n",
       "    <tr>\n",
       "      <th>9</th>\n",
       "      <td>4162358</td>\n",
       "      <td>NaN</td>\n",
       "      <td>NaN</td>\n",
       "      <td>A B C D E F G H : The First Part of the Horn B...</td>\n",
       "      <td>NaN</td>\n",
       "      <td>First part of the horn book</td>\n",
       "      <td>NaN</td>\n",
       "      <td>1795</td>\n",
       "      <td>1795</td>\n",
       "      <td>England</td>\n",
       "      <td>...</td>\n",
       "      <td>NaN</td>\n",
       "      <td>NaN</td>\n",
       "      <td>NaN</td>\n",
       "      <td>folio</td>\n",
       "      <td>NaN</td>\n",
       "      <td>NaN</td>\n",
       "      <td>NaN</td>\n",
       "      <td>NaN</td>\n",
       "      <td>NaN</td>\n",
       "      <td>G.356.(6.)</td>\n",
       "    </tr>\n",
       "  </tbody>\n",
       "</table>\n",
       "<p>10 rows × 23 columns</p>\n",
       "</div>"
      ],
      "text/plain": [
       "   BL record ID                                           Composer  \\\n",
       "0       1279866                                                NaN   \n",
       "1       1312079                                                NaN   \n",
       "2       1706700                                    Hofhaimer, Paul   \n",
       "3       1825532                                                NaN   \n",
       "4       2225270                          Chapman, Mary, (Musician)   \n",
       "5       3050793                                    Razzi, Serafino   \n",
       "6       3081869                             Íslenzka stúdentafélag   \n",
       "7       3240772                            Sanchis Guarner, Manuel   \n",
       "8       4083483  Liturgies.Latin Rite. Graduals. II. Local. Pas...   \n",
       "9       4162358                                                NaN   \n",
       "\n",
       "  Composer life dates                                              Title  \\\n",
       "0                 NaN            The Penguin book of Canadian Folk songs   \n",
       "1                 NaN  Anthology for The musician's guide to theory a...   \n",
       "2           1459-1537  Harmoniae poeticae Pauli Hofheimeri : viri equ...   \n",
       "3                 NaN  Istituzioni e monumenti dell'arte musicale ita...   \n",
       "4                 NaN  Eight ball studies suitable for use in girls' ...   \n",
       "5               1531-  Santuario di laudi : o vero rime spirituali, p...   \n",
       "6                 NaN              Söngbók hins Íslenzka Stúdentafjelags   \n",
       "7                 NaN  Cancçoneret Valencià de Nadal : Segona edició ...   \n",
       "8                 NaN  Graduale Pataviense (Wien 1511). Faksimile. He...   \n",
       "9                 NaN  A B C D E F G H : The First Part of the Horn B...   \n",
       "\n",
       "   Standardised title                                       Other titles  \\\n",
       "0                 NaN                                Canadian folk songs   \n",
       "1                 NaN  Musician's guide, anthology ; Musician's guide...   \n",
       "2  Harmoniae poeticae  Harmoniae poeticae Pauli Hofheimeri, & Ludovic...   \n",
       "3                 NaN                                                NaN   \n",
       "4                 NaN                                                NaN   \n",
       "5                 NaN                                                NaN   \n",
       "6                 NaN                                                NaN   \n",
       "7                 NaN                                                NaN   \n",
       "8                 NaN                                                NaN   \n",
       "9                 NaN                        First part of the horn book   \n",
       "\n",
       "                                        Other names  \\\n",
       "0  Fowke, Edith ; MacMillan, Keith (Keith Campbell)   \n",
       "1  Clendinning, Jane Piper ; Marvin, Elizabeth West   \n",
       "2        Horace ; Stomius, Johannes ; Senfl, Ludwig   \n",
       "3                                               NaN   \n",
       "4                                               NaN   \n",
       "5                                Verdelot, Philippe   \n",
       "6                                               NaN   \n",
       "7                                               NaN   \n",
       "8                             Vaeterlein, Christian   \n",
       "9                                               NaN   \n",
       "\n",
       "  Publication date (standardised) Publication date (not standardised)  \\\n",
       "0                            1973                                1973   \n",
       "1                            2005                               c2005   \n",
       "2                            1539                                1539   \n",
       "3                            1931                           1931-1939   \n",
       "4                            1940                                1940   \n",
       "5                            1609                                1609   \n",
       "6                            1894                                1894   \n",
       "7                            1973                                1973   \n",
       "8                            1982                                 NaN   \n",
       "9                            1795                                1795   \n",
       "\n",
       "  Country of publication  ...  \\\n",
       "0                England  ...   \n",
       "1       New York (State)  ...   \n",
       "2                Germany  ...   \n",
       "3                  Italy  ...   \n",
       "4                England  ...   \n",
       "5                  Italy  ...   \n",
       "6                Iceland  ...   \n",
       "7                  Spain  ...   \n",
       "8                Germany  ...   \n",
       "9                England  ...   \n",
       "\n",
       "                                            Contents    Referenced in  \\\n",
       "0  A Fenian song -- Bold Wolfe -- The battle of t...              NaN   \n",
       "1                                                NaN              NaN   \n",
       "2                                                NaN  RISM B/I 1539²⁶   \n",
       "3  v. 1-2. Andrea e Giovanni Gabrieli e la musica...              NaN   \n",
       "4                                                NaN              NaN   \n",
       "5                                                NaN   RISM B/I 1609⁸   \n",
       "6  Ættjarðarkvæði -- Alþýðuvísur -- Undir berum h...              NaN   \n",
       "7                                                NaN              NaN   \n",
       "8                                                NaN              NaN   \n",
       "9                                                NaN              NaN   \n",
       "\n",
       "                                 Subject/genre terms  \\\n",
       "0    Folk songs--Canada ; Folk songs, French--Canada   \n",
       "1                Musical analysis--Music collections   \n",
       "2                                  Part songs, Latin   \n",
       "3  Instrumental music ; Vocal music, Italian ; Sa...   \n",
       "4      Piano music ; Physical education and training   \n",
       "5                   Hymns, Italian ; Propers (Music)   \n",
       "6  Students' songs--Iceland ; Songs ; Music--Iceland   \n",
       "7                                                NaN   \n",
       "8                                                NaN   \n",
       "9                                                NaN   \n",
       "\n",
       "                                Physical description  \\\n",
       "0                            224 pages, music, 20 cm   \n",
       "1                    1 score (vii, 260 pages), 28 cm   \n",
       "2                                        5 parts, 8°   \n",
       "3  6 volumes, illustrations, facsimiles (part col...   \n",
       "4  1 score (12 pages ), 26 cm + 1 volume (8 pages...   \n",
       "5                     24, 240, 24 pages of music, 8°   \n",
       "6          103 pages, music, 15 x 18 cm, (oblong 8°)   \n",
       "7                                    55 pages, 24 cm   \n",
       "8                vi, 294, 13 pages, music 25 x 33 cm   \n",
       "9                                              folio   \n",
       "\n",
       "                                        Series title  Number within series  \\\n",
       "0                                                NaN                   NaN   \n",
       "1                                                NaN                   NaN   \n",
       "2                                                NaN                   NaN   \n",
       "3                                                NaN                   NaN   \n",
       "4                                                NaN                   NaN   \n",
       "5                                                NaN                   NaN   \n",
       "6                                                NaN                   NaN   \n",
       "7                                       Els quaderns  no. 3 [Els quaderns]   \n",
       "8  Das Erbe deutscher Musik. Bd.87. Abteilung Mit...                   NaN   \n",
       "9                                                NaN                   NaN   \n",
       "\n",
       "         ISBN ISMN Publisher number                       BL shelfmark  \n",
       "0  0140708421  NaN              NaN             mH00/3305 ; X.439/3548  \n",
       "1  0393925765  NaN              NaN                           F.1946.h  \n",
       "2         NaN  NaN              NaN  1070.c.12.(1.) ; 1213.i.1 ; G.727  \n",
       "3         NaN  NaN              NaN               Hirsch IV.975 ; H.14  \n",
       "4         NaN  NaN              NaN                       D-07907.f.10  \n",
       "5         NaN  NaN              NaN                        11427.ee.25  \n",
       "6         NaN  NaN              NaN                           866.k.15  \n",
       "7         NaN  NaN              NaN                    P.521/1605.(3.)  \n",
       "8         NaN  NaN              NaN                        H.995.b./87  \n",
       "9         NaN  NaN              NaN                         G.356.(6.)  \n",
       "\n",
       "[10 rows x 23 columns]"
      ]
     },
     "execution_count": 13,
     "metadata": {},
     "output_type": "execute_result"
    }
   ],
   "source": [
    "dataset.head (10)\n",
    "#Check the head of the dataframe"
   ]
  },
  {
   "cell_type": "code",
   "execution_count": 14,
   "id": "ea8b1521",
   "metadata": {},
   "outputs": [
    {
     "data": {
      "text/plain": [
       "England             416538\n",
       "United States       120741\n",
       "Germany (East)       46903\n",
       "France               43679\n",
       "Germany              12403\n",
       "                     ...  \n",
       "Saint-Barthélemy         1\n",
       "Montenegro               1\n",
       "Saint Lucia              1\n",
       "Barbados                 1\n",
       "Uganda                   1\n",
       "Name: Country of publication, Length: 167, dtype: int64"
      ]
     },
     "execution_count": 14,
     "metadata": {},
     "output_type": "execute_result"
    }
   ],
   "source": [
    "dataset['Country of publication'].value_counts()\n",
    "#cound how many works were published in what country"
   ]
  },
  {
   "cell_type": "code",
   "execution_count": 15,
   "id": "3ce92781",
   "metadata": {},
   "outputs": [
    {
     "data": {
      "text/plain": [
       "'England'"
      ]
     },
     "execution_count": 15,
     "metadata": {},
     "output_type": "execute_result"
    }
   ],
   "source": [
    "dataset['Country of publication'].value_counts().idxmax()\n",
    "#find in what country were written the most works"
   ]
  },
  {
   "cell_type": "code",
   "execution_count": 16,
   "id": "24679544",
   "metadata": {},
   "outputs": [
    {
     "data": {
      "text/plain": [
       "England           416538\n",
       "United States     120741\n",
       "Germany (East)     46903\n",
       "France             43679\n",
       "Germany            12403\n",
       "Name: Country of publication, dtype: int64"
      ]
     },
     "execution_count": 16,
     "metadata": {},
     "output_type": "execute_result"
    }
   ],
   "source": [
    "n = 5\n",
    "dataset['Country of publication'].value_counts()[:n]\n",
    "#find the Top5 of the most published in countries"
   ]
  },
  {
   "cell_type": "code",
   "execution_count": 17,
   "id": "6b45a187",
   "metadata": {},
   "outputs": [
    {
     "data": {
      "text/plain": [
       "<AxesSubplot:>"
      ]
     },
     "execution_count": 17,
     "metadata": {},
     "output_type": "execute_result"
    },
    {
     "data": {
      "image/png": "[encoded data removed]",
      "text/plain": [
       "<Figure size 432x288 with 1 Axes>"
      ]
     },
     "metadata": {
      "needs_background": "light"
     },
     "output_type": "display_data"
    }
   ],
   "source": [
    "\n",
    "n = 5\n",
    "dataset['Country of publication'].value_counts()[:n].plot.barh()\n",
    "#Build the visualisation 1\n"
   ]
  },
  {
   "cell_type": "code",
   "execution_count": 18,
   "id": "2948bb9a",
   "metadata": {},
   "outputs": [
    {
     "data": {
      "text/plain": [
       "<AxesSubplot:>"
      ]
     },
     "execution_count": 18,
     "metadata": {},
     "output_type": "execute_result"
    },
    {
     "data": {
      "image/png": "[encoded data removed]",
      "text/plain": [
       "<Figure size 432x288 with 1 Axes>"
      ]
     },
     "metadata": {
      "needs_background": "light"
     },
     "output_type": "display_data"
    }
   ],
   "source": [
    "\n",
    "n = 5\n",
    "dataset['Country of publication'].value_counts()[:n].plot.bar()\n",
    "#Build the visualisation 2"
   ]
  },
  {
   "cell_type": "code",
   "execution_count": 19,
   "id": "a3e10fd7",
   "metadata": {},
   "outputs": [
    {
     "data": {
      "text/plain": [
       "<AxesSubplot:ylabel='Country of publication'>"
      ]
     },
     "execution_count": 19,
     "metadata": {},
     "output_type": "execute_result"
    },
    {
     "data": {
      "image/png": "[encoded data removed]",
      "text/plain": [
       "<Figure size 432x288 with 1 Axes>"
      ]
     },
     "metadata": {},
     "output_type": "display_data"
    }
   ],
   "source": [
    "\n",
    "n = 5\n",
    "dataset['Country of publication'].value_counts()[:n].plot.pie()\n",
    "#Build the visualisation 3"
   ]
  },
  {
   "cell_type": "code",
   "execution_count": 20,
   "id": "244c650c",
   "metadata": {},
   "outputs": [
    {
     "data": {
      "text/plain": [
       "<AxesSubplot:ylabel='Country of publication'>"
      ]
     },
     "execution_count": 20,
     "metadata": {},
     "output_type": "execute_result"
    },
    {
     "data": {
      "image/png": "[encoded data removed]",
      "text/plain": [
       "<Figure size 432x288 with 1 Axes>"
      ]
     },
     "metadata": {},
     "output_type": "display_data"
    }
   ],
   "source": [
    "\n",
    "n = 5\n",
    "dataset['Country of publication'].value_counts()[:n].plot.pie(\n",
    "                                autopct='%1.0f%%')\n",
    "#Build the visualisation 3.1 with the %\n"
   ]
  },
  {
   "cell_type": "code",
   "execution_count": null,
   "id": "ae5036f2",
   "metadata": {},
   "outputs": [],
   "source": []
  }
 ],
 "metadata": {
  "kernelspec": {
   "display_name": "Python 3 (ipykernel)",
   "language": "python",
   "name": "python3"
  },
  "language_info": {
   "codemirror_mode": {
    "name": "ipython",
    "version": 3
   },
   "file_extension": ".py",
   "mimetype": "text/x-python",
   "name": "python",
   "nbconvert_exporter": "python",
   "pygments_lexer": "ipython3",
   "version": "3.9.7"
  }
 },
 "nbformat": 4,
 "nbformat_minor": 5
}
